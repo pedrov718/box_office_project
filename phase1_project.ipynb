{
 "cells": [
  {
   "cell_type": "code",
   "execution_count": 227,
   "outputs": [],
   "source": [
    "import pandas as pd\n",
    "import matplotlib.pyplot as plt\n",
    "import sqlite3\n"
   ],
   "metadata": {
    "collapsed": false,
    "pycharm": {
     "name": "#%%\n"
    }
   }
  },
  {
   "cell_type": "markdown",
   "source": [
    "In-[period] and calendar grosses\n",
    "Monthly, quarterly, season, and yearly charts can be viewed either by “in-[period] releases” or “calendar grosses”. Viewing by in-[period] releases shows total box office results for releases during that period, regardless of when the money was made. For example, viewing by in-year releases for 2019 shows box office results for all movies released in 2019. A movie released in 2018 will not appear on this chart even if it continued to earn money in 2019. Viewing by calendar grosses shows box office results within a given time period, regardless of when the movies were released. For example, viewing by calendar grosses for 2019 shows box office results for all movies that earned money in 2019. A movie released in 2018 may appear on this chart if it continued to earn money in 2019.\n",
    "\n",
    "Calendar grosses are based on daily box office receipts or, when daily data is not available, estimates are used and are based on weekend and weekly data and historical box office trends. In cases where a final reported gross is different from its last reported gross for a given movie, the difference is assigned to the two weeks after the last reported gross date. In most cases, this reflects receipts that have trickled in after a movie has stopped being tracked for reportage. Since box office has been more closely tracked in recent years, the calendar gross data is generally considered more comprehensive after 2001, while pre-2001 estimates are considered approximate. Accuracy of calendar grosses improves over a wider range of time viewed."
   ],
   "metadata": {
    "collapsed": false,
    "pycharm": {
     "name": "#%% md\n"
    }
   }
  },
  {
   "cell_type": "code",
   "execution_count": 211,
   "outputs": [],
   "source": [
    "for year in range(2012, 2023):\n",
    "    globals()[f\"box_office_{year}\"] = pd.read_excel(\"IMDB_boxoffice_2022_2012.xlsx\", sheet_name = str(year), na_values = \"-\" )"
   ],
   "metadata": {
    "collapsed": false,
    "pycharm": {
     "name": "#%%\n"
    }
   }
  },
  {
   "cell_type": "code",
   "execution_count": 212,
   "outputs": [],
   "source": [
    "for year in range(2012, 2023):\n",
    "    globals()[f\"box_office_{year}\"][\"release_year\"] = year"
   ],
   "metadata": {
    "collapsed": false,
    "pycharm": {
     "name": "#%%\n"
    }
   }
  },
  {
   "cell_type": "code",
   "execution_count": 213,
   "outputs": [],
   "source": [
    "box_office_decade = pd.concat([box_office_2012,\n",
    "           box_office_2013,\n",
    "           box_office_2014,\n",
    "           box_office_2015,\n",
    "           box_office_2016,\n",
    "           box_office_2017,\n",
    "           box_office_2018,\n",
    "           box_office_2019,\n",
    "           box_office_2020,\n",
    "           box_office_2021,\n",
    "           box_office_2022], ignore_index=True)"
   ],
   "metadata": {
    "collapsed": false,
    "pycharm": {
     "name": "#%%\n"
    }
   }
  },
  {
   "cell_type": "code",
   "execution_count": 214,
   "outputs": [
    {
     "data": {
      "text/plain": "              Rank  Release  Genre  Budget  Running Time  Gross  Max Th  \\\nrelease_year                                                              \n2012           200      200      0       0             0    200     198   \n2013           200      200      0       0             0    200     200   \n2014           200      200      0       0             0    200     200   \n2015           200      200      0       0             0    200     200   \n2016           200      200      0       0             0    200     200   \n2017           200      200      0       0             0    200     200   \n2018           200      200      0       0             0    200     200   \n2019           200      200      0       0             0    200     199   \n2020           200      200      0       0             0    200     195   \n2021           200      200      0       0             0    200     193   \n2022           200      200      0       0             0    200     198   \n\n              Opening  % of Total  Open Th  Open  Close  Distributor  \\\nrelease_year                                                           \n2012              195         193      195   200    199          199   \n2013              199         198      199   200    198          197   \n2014              200         200      200   200    199          198   \n2015              198         194      198   200    199          198   \n2016              199         198      199   200    196          198   \n2017              196         196      196   200    198          198   \n2018              198         197      198   200    198          192   \n2019              197         196      197   200    136          196   \n2020              184         153      180   200      6          198   \n2021              191         176      191   200      9          195   \n2022              195         174      193   200     14          184   \n\n              Estimated  \nrelease_year             \n2012                200  \n2013                200  \n2014                200  \n2015                200  \n2016                200  \n2017                200  \n2018                200  \n2019                200  \n2020                200  \n2021                200  \n2022                200  ",
      "text/html": "<div>\n<style scoped>\n    .dataframe tbody tr th:only-of-type {\n        vertical-align: middle;\n    }\n\n    .dataframe tbody tr th {\n        vertical-align: top;\n    }\n\n    .dataframe thead th {\n        text-align: right;\n    }\n</style>\n<table border=\"1\" class=\"dataframe\">\n  <thead>\n    <tr style=\"text-align: right;\">\n      <th></th>\n      <th>Rank</th>\n      <th>Release</th>\n      <th>Genre</th>\n      <th>Budget</th>\n      <th>Running Time</th>\n      <th>Gross</th>\n      <th>Max Th</th>\n      <th>Opening</th>\n      <th>% of Total</th>\n      <th>Open Th</th>\n      <th>Open</th>\n      <th>Close</th>\n      <th>Distributor</th>\n      <th>Estimated</th>\n    </tr>\n    <tr>\n      <th>release_year</th>\n      <th></th>\n      <th></th>\n      <th></th>\n      <th></th>\n      <th></th>\n      <th></th>\n      <th></th>\n      <th></th>\n      <th></th>\n      <th></th>\n      <th></th>\n      <th></th>\n      <th></th>\n      <th></th>\n    </tr>\n  </thead>\n  <tbody>\n    <tr>\n      <th>2012</th>\n      <td>200</td>\n      <td>200</td>\n      <td>0</td>\n      <td>0</td>\n      <td>0</td>\n      <td>200</td>\n      <td>198</td>\n      <td>195</td>\n      <td>193</td>\n      <td>195</td>\n      <td>200</td>\n      <td>199</td>\n      <td>199</td>\n      <td>200</td>\n    </tr>\n    <tr>\n      <th>2013</th>\n      <td>200</td>\n      <td>200</td>\n      <td>0</td>\n      <td>0</td>\n      <td>0</td>\n      <td>200</td>\n      <td>200</td>\n      <td>199</td>\n      <td>198</td>\n      <td>199</td>\n      <td>200</td>\n      <td>198</td>\n      <td>197</td>\n      <td>200</td>\n    </tr>\n    <tr>\n      <th>2014</th>\n      <td>200</td>\n      <td>200</td>\n      <td>0</td>\n      <td>0</td>\n      <td>0</td>\n      <td>200</td>\n      <td>200</td>\n      <td>200</td>\n      <td>200</td>\n      <td>200</td>\n      <td>200</td>\n      <td>199</td>\n      <td>198</td>\n      <td>200</td>\n    </tr>\n    <tr>\n      <th>2015</th>\n      <td>200</td>\n      <td>200</td>\n      <td>0</td>\n      <td>0</td>\n      <td>0</td>\n      <td>200</td>\n      <td>200</td>\n      <td>198</td>\n      <td>194</td>\n      <td>198</td>\n      <td>200</td>\n      <td>199</td>\n      <td>198</td>\n      <td>200</td>\n    </tr>\n    <tr>\n      <th>2016</th>\n      <td>200</td>\n      <td>200</td>\n      <td>0</td>\n      <td>0</td>\n      <td>0</td>\n      <td>200</td>\n      <td>200</td>\n      <td>199</td>\n      <td>198</td>\n      <td>199</td>\n      <td>200</td>\n      <td>196</td>\n      <td>198</td>\n      <td>200</td>\n    </tr>\n    <tr>\n      <th>2017</th>\n      <td>200</td>\n      <td>200</td>\n      <td>0</td>\n      <td>0</td>\n      <td>0</td>\n      <td>200</td>\n      <td>200</td>\n      <td>196</td>\n      <td>196</td>\n      <td>196</td>\n      <td>200</td>\n      <td>198</td>\n      <td>198</td>\n      <td>200</td>\n    </tr>\n    <tr>\n      <th>2018</th>\n      <td>200</td>\n      <td>200</td>\n      <td>0</td>\n      <td>0</td>\n      <td>0</td>\n      <td>200</td>\n      <td>200</td>\n      <td>198</td>\n      <td>197</td>\n      <td>198</td>\n      <td>200</td>\n      <td>198</td>\n      <td>192</td>\n      <td>200</td>\n    </tr>\n    <tr>\n      <th>2019</th>\n      <td>200</td>\n      <td>200</td>\n      <td>0</td>\n      <td>0</td>\n      <td>0</td>\n      <td>200</td>\n      <td>199</td>\n      <td>197</td>\n      <td>196</td>\n      <td>197</td>\n      <td>200</td>\n      <td>136</td>\n      <td>196</td>\n      <td>200</td>\n    </tr>\n    <tr>\n      <th>2020</th>\n      <td>200</td>\n      <td>200</td>\n      <td>0</td>\n      <td>0</td>\n      <td>0</td>\n      <td>200</td>\n      <td>195</td>\n      <td>184</td>\n      <td>153</td>\n      <td>180</td>\n      <td>200</td>\n      <td>6</td>\n      <td>198</td>\n      <td>200</td>\n    </tr>\n    <tr>\n      <th>2021</th>\n      <td>200</td>\n      <td>200</td>\n      <td>0</td>\n      <td>0</td>\n      <td>0</td>\n      <td>200</td>\n      <td>193</td>\n      <td>191</td>\n      <td>176</td>\n      <td>191</td>\n      <td>200</td>\n      <td>9</td>\n      <td>195</td>\n      <td>200</td>\n    </tr>\n    <tr>\n      <th>2022</th>\n      <td>200</td>\n      <td>200</td>\n      <td>0</td>\n      <td>0</td>\n      <td>0</td>\n      <td>200</td>\n      <td>198</td>\n      <td>195</td>\n      <td>174</td>\n      <td>193</td>\n      <td>200</td>\n      <td>14</td>\n      <td>184</td>\n      <td>200</td>\n    </tr>\n  </tbody>\n</table>\n</div>"
     },
     "execution_count": 214,
     "metadata": {},
     "output_type": "execute_result"
    }
   ],
   "source": [
    "box_office_decade.groupby(\"release_year\").count()"
   ],
   "metadata": {
    "collapsed": false,
    "pycharm": {
     "name": "#%%\n"
    }
   }
  },
  {
   "cell_type": "code",
   "execution_count": 215,
   "outputs": [],
   "source": [
    "box_office_decade.rename(columns = {\"Release\": \"primary_title\"}, inplace= True)\n",
    "box_office_decade.drop(columns = \"Estimated\", inplace = True)"
   ],
   "metadata": {
    "collapsed": false,
    "pycharm": {
     "name": "#%%\n"
    }
   }
  },
  {
   "cell_type": "code",
   "execution_count": 216,
   "outputs": [
    {
     "data": {
      "text/plain": "[('movie_basics',),\n ('directors',),\n ('known_for',),\n ('movie_akas',),\n ('movie_ratings',),\n ('persons',),\n ('principals',),\n ('writers',)]"
     },
     "execution_count": 216,
     "metadata": {},
     "output_type": "execute_result"
    }
   ],
   "source": [
    "con = sqlite3.connect('im.db')\n",
    "\n",
    "cursor = con.cursor()\n",
    "\n",
    "\n",
    "# Execute the query\n",
    "# (This is a special query for finding the table names. You don't need to memorize it.)\n",
    "cursor.execute(\"\"\"SELECT name FROM sqlite_master WHERE type = 'table';\"\"\")\n",
    "# Fetch the result and store it in table_names\n",
    "\n",
    "table_names = cursor.fetchall()\n",
    "\n",
    "table_names"
   ],
   "metadata": {
    "collapsed": false,
    "pycharm": {
     "name": "#%%\n"
    }
   }
  },
  {
   "cell_type": "code",
   "execution_count": 217,
   "outputs": [],
   "source": [
    "movie_basics = pd.read_sql(\"\"\"\n",
    "\n",
    "SELECT *\n",
    "FROM movie_basics\n",
    "\n",
    "\n",
    "\"\"\", con)"
   ],
   "metadata": {
    "collapsed": false,
    "pycharm": {
     "name": "#%%\n"
    }
   }
  },
  {
   "cell_type": "code",
   "execution_count": 218,
   "outputs": [
    {
     "data": {
      "text/plain": "         movie_id                                primary_title  \\\n0       tt0063540                                    Sunghursh   \n1       tt0066787              One Day Before the Rainy Season   \n2       tt0069049                   The Other Side of the Wind   \n3       tt0069204                              Sabse Bada Sukh   \n4       tt0100275                     The Wandering Soap Opera   \n...           ...                                          ...   \n146139  tt9916538                          Kuambil Lagi Hatiku   \n146140  tt9916622  Rodolpho Teóphilo - O Legado de um Pioneiro   \n146141  tt9916706                              Dankyavar Danka   \n146142  tt9916730                                       6 Gunn   \n146143  tt9916754               Chico Albuquerque - Revelações   \n\n                                     original_title  start_year  \\\n0                                         Sunghursh        2013   \n1                                   Ashad Ka Ek Din        2019   \n2                        The Other Side of the Wind        2018   \n3                                   Sabse Bada Sukh        2018   \n4                             La Telenovela Errante        2017   \n...                                             ...         ...   \n146139                          Kuambil Lagi Hatiku        2019   \n146140  Rodolpho Teóphilo - O Legado de um Pioneiro        2015   \n146141                              Dankyavar Danka        2013   \n146142                                       6 Gunn        2017   \n146143               Chico Albuquerque - Revelações        2013   \n\n        runtime_minutes                genres  \n0                 175.0    Action,Crime,Drama  \n1                 114.0       Biography,Drama  \n2                 122.0                 Drama  \n3                   NaN          Comedy,Drama  \n4                  80.0  Comedy,Drama,Fantasy  \n...                 ...                   ...  \n146139            123.0                 Drama  \n146140              NaN           Documentary  \n146141              NaN                Comedy  \n146142            116.0                  None  \n146143              NaN           Documentary  \n\n[146144 rows x 6 columns]",
      "text/html": "<div>\n<style scoped>\n    .dataframe tbody tr th:only-of-type {\n        vertical-align: middle;\n    }\n\n    .dataframe tbody tr th {\n        vertical-align: top;\n    }\n\n    .dataframe thead th {\n        text-align: right;\n    }\n</style>\n<table border=\"1\" class=\"dataframe\">\n  <thead>\n    <tr style=\"text-align: right;\">\n      <th></th>\n      <th>movie_id</th>\n      <th>primary_title</th>\n      <th>original_title</th>\n      <th>start_year</th>\n      <th>runtime_minutes</th>\n      <th>genres</th>\n    </tr>\n  </thead>\n  <tbody>\n    <tr>\n      <th>0</th>\n      <td>tt0063540</td>\n      <td>Sunghursh</td>\n      <td>Sunghursh</td>\n      <td>2013</td>\n      <td>175.0</td>\n      <td>Action,Crime,Drama</td>\n    </tr>\n    <tr>\n      <th>1</th>\n      <td>tt0066787</td>\n      <td>One Day Before the Rainy Season</td>\n      <td>Ashad Ka Ek Din</td>\n      <td>2019</td>\n      <td>114.0</td>\n      <td>Biography,Drama</td>\n    </tr>\n    <tr>\n      <th>2</th>\n      <td>tt0069049</td>\n      <td>The Other Side of the Wind</td>\n      <td>The Other Side of the Wind</td>\n      <td>2018</td>\n      <td>122.0</td>\n      <td>Drama</td>\n    </tr>\n    <tr>\n      <th>3</th>\n      <td>tt0069204</td>\n      <td>Sabse Bada Sukh</td>\n      <td>Sabse Bada Sukh</td>\n      <td>2018</td>\n      <td>NaN</td>\n      <td>Comedy,Drama</td>\n    </tr>\n    <tr>\n      <th>4</th>\n      <td>tt0100275</td>\n      <td>The Wandering Soap Opera</td>\n      <td>La Telenovela Errante</td>\n      <td>2017</td>\n      <td>80.0</td>\n      <td>Comedy,Drama,Fantasy</td>\n    </tr>\n    <tr>\n      <th>...</th>\n      <td>...</td>\n      <td>...</td>\n      <td>...</td>\n      <td>...</td>\n      <td>...</td>\n      <td>...</td>\n    </tr>\n    <tr>\n      <th>146139</th>\n      <td>tt9916538</td>\n      <td>Kuambil Lagi Hatiku</td>\n      <td>Kuambil Lagi Hatiku</td>\n      <td>2019</td>\n      <td>123.0</td>\n      <td>Drama</td>\n    </tr>\n    <tr>\n      <th>146140</th>\n      <td>tt9916622</td>\n      <td>Rodolpho Teóphilo - O Legado de um Pioneiro</td>\n      <td>Rodolpho Teóphilo - O Legado de um Pioneiro</td>\n      <td>2015</td>\n      <td>NaN</td>\n      <td>Documentary</td>\n    </tr>\n    <tr>\n      <th>146141</th>\n      <td>tt9916706</td>\n      <td>Dankyavar Danka</td>\n      <td>Dankyavar Danka</td>\n      <td>2013</td>\n      <td>NaN</td>\n      <td>Comedy</td>\n    </tr>\n    <tr>\n      <th>146142</th>\n      <td>tt9916730</td>\n      <td>6 Gunn</td>\n      <td>6 Gunn</td>\n      <td>2017</td>\n      <td>116.0</td>\n      <td>None</td>\n    </tr>\n    <tr>\n      <th>146143</th>\n      <td>tt9916754</td>\n      <td>Chico Albuquerque - Revelações</td>\n      <td>Chico Albuquerque - Revelações</td>\n      <td>2013</td>\n      <td>NaN</td>\n      <td>Documentary</td>\n    </tr>\n  </tbody>\n</table>\n<p>146144 rows × 6 columns</p>\n</div>"
     },
     "execution_count": 218,
     "metadata": {},
     "output_type": "execute_result"
    }
   ],
   "source": [
    "movie_basics"
   ],
   "metadata": {
    "collapsed": false,
    "pycharm": {
     "name": "#%%\n"
    }
   }
  },
  {
   "cell_type": "code",
   "execution_count": 219,
   "outputs": [],
   "source": [
    "movies = pd.merge(box_office_decade, movie_basics, how = \"inner\", on = \"primary_title\")"
   ],
   "metadata": {
    "collapsed": false,
    "pycharm": {
     "name": "#%%\n"
    }
   }
  },
  {
   "cell_type": "code",
   "execution_count": 220,
   "outputs": [],
   "source": [
    "movies.drop(columns= [\"start_year\", \"original_title\", \"Genre\", \"Budget\", \"Running Time\"], inplace= True)"
   ],
   "metadata": {
    "collapsed": false,
    "pycharm": {
     "name": "#%%\n"
    }
   }
  },
  {
   "cell_type": "code",
   "execution_count": 224,
   "outputs": [],
   "source": [
    "movies[\"genre1\"] = movies[\"genres\"].str.split(',', expand = True)[0]\n",
    "movies[\"genre2\"] = movies[\"genres\"].str.split(',', expand = True)[1]\n",
    "movies[\"genre3\"] = movies[\"genres\"].str.split(',', expand = True)[2]\n",
    "movies.drop(columns= [\"genres\"], inplace= True)"
   ],
   "metadata": {
    "collapsed": false,
    "pycharm": {
     "name": "#%%\n"
    }
   }
  },
  {
   "cell_type": "code",
   "execution_count": 225,
   "outputs": [
    {
     "data": {
      "text/plain": "      Rank                              primary_title      Gross Max Th  \\\n1204   115                          Norm of the North   17062499   2411   \n101     91                              Frankenweenie   35291068  3,005   \n349     90      The Mortal Instruments: City of Bones   31165421   3118   \n2434   179                                      Poser      42179      9   \n1535   152                          The Book of Henry    4504974    650   \n1929    62                          Rambo: Last Blood   44819352  3,618   \n1191   108  Middle School: The Worst Years of My Life   20007149   2822   \n562     62                        Muppets Most Wanted   51183113   3194   \n418    144                        The Spectacular Now    6854611    770   \n482      1                            American Sniper  350126372   3885   \n\n          Opening % of Total Open Th       Open   Close  \\\n1204   $6,844,137      40.1%   2,411 2022-01-15  Mar 17   \n101   $11,412,213      32.3%   3,005 2022-10-05  Feb 28   \n349    $9,336,957        30%   3,118 2022-08-21   Oct 6   \n2434      $15,250        NaN       1 2022-06-03     NaN   \n1535   $1,424,540      31.6%     579 2022-06-16  Aug 17   \n1929  $18,872,919      42.1%   3,618 2022-09-20  Nov 21   \n1191   $6,878,437      34.4%   2,822 2022-10-07   Dec 1   \n562      17005126      0.332    3194 2022-03-21  Jul 17   \n418      $197,415       2.9%       4 2022-08-02  Dec 12   \n482        633456      0.002       4 2022-12-25  Jun 25   \n\n                              Distributor  release_year   movie_id  \\\n1204                            Lionsgate          2016  tt1594972   \n101   Walt Disney Studios Motion Pictures          2012  tt1142977   \n349                           Screen Gems          2013  tt1538403   \n2434                         Oscilloscope          2022  tt9000084   \n1535                       Focus Features          2017  tt4572792   \n1929                            Lionsgate          2019  tt1206885   \n1191                            Lionsgate          2016  tt4981636   \n562   Walt Disney Studios Motion Pictures          2014  tt2281587   \n418                                   A24          2013  tt1714206   \n482                          Warner Bros.          2014  tt2179136   \n\n      runtime_minutes     genre1     genre2    genre3  \n1204             90.0  Adventure  Animation    Comedy  \n101              87.0  Animation     Comedy    Family  \n349             130.0     Action    Fantasy    Horror  \n2434             88.0      Crime      Drama      None  \n1535            105.0      Crime      Drama  Thriller  \n1929              NaN     Action  Adventure  Thriller  \n1191             92.0     Comedy     Family      None  \n562             107.0  Adventure     Comedy     Crime  \n418              95.0     Comedy      Drama   Romance  \n482             133.0     Action  Biography     Drama  ",
      "text/html": "<div>\n<style scoped>\n    .dataframe tbody tr th:only-of-type {\n        vertical-align: middle;\n    }\n\n    .dataframe tbody tr th {\n        vertical-align: top;\n    }\n\n    .dataframe thead th {\n        text-align: right;\n    }\n</style>\n<table border=\"1\" class=\"dataframe\">\n  <thead>\n    <tr style=\"text-align: right;\">\n      <th></th>\n      <th>Rank</th>\n      <th>primary_title</th>\n      <th>Gross</th>\n      <th>Max Th</th>\n      <th>Opening</th>\n      <th>% of Total</th>\n      <th>Open Th</th>\n      <th>Open</th>\n      <th>Close</th>\n      <th>Distributor</th>\n      <th>release_year</th>\n      <th>movie_id</th>\n      <th>runtime_minutes</th>\n      <th>genre1</th>\n      <th>genre2</th>\n      <th>genre3</th>\n    </tr>\n  </thead>\n  <tbody>\n    <tr>\n      <th>1204</th>\n      <td>115</td>\n      <td>Norm of the North</td>\n      <td>17062499</td>\n      <td>2411</td>\n      <td>$6,844,137</td>\n      <td>40.1%</td>\n      <td>2,411</td>\n      <td>2022-01-15</td>\n      <td>Mar 17</td>\n      <td>Lionsgate</td>\n      <td>2016</td>\n      <td>tt1594972</td>\n      <td>90.0</td>\n      <td>Adventure</td>\n      <td>Animation</td>\n      <td>Comedy</td>\n    </tr>\n    <tr>\n      <th>101</th>\n      <td>91</td>\n      <td>Frankenweenie</td>\n      <td>35291068</td>\n      <td>3,005</td>\n      <td>$11,412,213</td>\n      <td>32.3%</td>\n      <td>3,005</td>\n      <td>2022-10-05</td>\n      <td>Feb 28</td>\n      <td>Walt Disney Studios Motion Pictures</td>\n      <td>2012</td>\n      <td>tt1142977</td>\n      <td>87.0</td>\n      <td>Animation</td>\n      <td>Comedy</td>\n      <td>Family</td>\n    </tr>\n    <tr>\n      <th>349</th>\n      <td>90</td>\n      <td>The Mortal Instruments: City of Bones</td>\n      <td>31165421</td>\n      <td>3118</td>\n      <td>$9,336,957</td>\n      <td>30%</td>\n      <td>3,118</td>\n      <td>2022-08-21</td>\n      <td>Oct 6</td>\n      <td>Screen Gems</td>\n      <td>2013</td>\n      <td>tt1538403</td>\n      <td>130.0</td>\n      <td>Action</td>\n      <td>Fantasy</td>\n      <td>Horror</td>\n    </tr>\n    <tr>\n      <th>2434</th>\n      <td>179</td>\n      <td>Poser</td>\n      <td>42179</td>\n      <td>9</td>\n      <td>$15,250</td>\n      <td>NaN</td>\n      <td>1</td>\n      <td>2022-06-03</td>\n      <td>NaN</td>\n      <td>Oscilloscope</td>\n      <td>2022</td>\n      <td>tt9000084</td>\n      <td>88.0</td>\n      <td>Crime</td>\n      <td>Drama</td>\n      <td>None</td>\n    </tr>\n    <tr>\n      <th>1535</th>\n      <td>152</td>\n      <td>The Book of Henry</td>\n      <td>4504974</td>\n      <td>650</td>\n      <td>$1,424,540</td>\n      <td>31.6%</td>\n      <td>579</td>\n      <td>2022-06-16</td>\n      <td>Aug 17</td>\n      <td>Focus Features</td>\n      <td>2017</td>\n      <td>tt4572792</td>\n      <td>105.0</td>\n      <td>Crime</td>\n      <td>Drama</td>\n      <td>Thriller</td>\n    </tr>\n    <tr>\n      <th>1929</th>\n      <td>62</td>\n      <td>Rambo: Last Blood</td>\n      <td>44819352</td>\n      <td>3,618</td>\n      <td>$18,872,919</td>\n      <td>42.1%</td>\n      <td>3,618</td>\n      <td>2022-09-20</td>\n      <td>Nov 21</td>\n      <td>Lionsgate</td>\n      <td>2019</td>\n      <td>tt1206885</td>\n      <td>NaN</td>\n      <td>Action</td>\n      <td>Adventure</td>\n      <td>Thriller</td>\n    </tr>\n    <tr>\n      <th>1191</th>\n      <td>108</td>\n      <td>Middle School: The Worst Years of My Life</td>\n      <td>20007149</td>\n      <td>2822</td>\n      <td>$6,878,437</td>\n      <td>34.4%</td>\n      <td>2,822</td>\n      <td>2022-10-07</td>\n      <td>Dec 1</td>\n      <td>Lionsgate</td>\n      <td>2016</td>\n      <td>tt4981636</td>\n      <td>92.0</td>\n      <td>Comedy</td>\n      <td>Family</td>\n      <td>None</td>\n    </tr>\n    <tr>\n      <th>562</th>\n      <td>62</td>\n      <td>Muppets Most Wanted</td>\n      <td>51183113</td>\n      <td>3194</td>\n      <td>17005126</td>\n      <td>0.332</td>\n      <td>3194</td>\n      <td>2022-03-21</td>\n      <td>Jul 17</td>\n      <td>Walt Disney Studios Motion Pictures</td>\n      <td>2014</td>\n      <td>tt2281587</td>\n      <td>107.0</td>\n      <td>Adventure</td>\n      <td>Comedy</td>\n      <td>Crime</td>\n    </tr>\n    <tr>\n      <th>418</th>\n      <td>144</td>\n      <td>The Spectacular Now</td>\n      <td>6854611</td>\n      <td>770</td>\n      <td>$197,415</td>\n      <td>2.9%</td>\n      <td>4</td>\n      <td>2022-08-02</td>\n      <td>Dec 12</td>\n      <td>A24</td>\n      <td>2013</td>\n      <td>tt1714206</td>\n      <td>95.0</td>\n      <td>Comedy</td>\n      <td>Drama</td>\n      <td>Romance</td>\n    </tr>\n    <tr>\n      <th>482</th>\n      <td>1</td>\n      <td>American Sniper</td>\n      <td>350126372</td>\n      <td>3885</td>\n      <td>633456</td>\n      <td>0.002</td>\n      <td>4</td>\n      <td>2022-12-25</td>\n      <td>Jun 25</td>\n      <td>Warner Bros.</td>\n      <td>2014</td>\n      <td>tt2179136</td>\n      <td>133.0</td>\n      <td>Action</td>\n      <td>Biography</td>\n      <td>Drama</td>\n    </tr>\n  </tbody>\n</table>\n</div>"
     },
     "execution_count": 225,
     "metadata": {},
     "output_type": "execute_result"
    }
   ],
   "source": [
    "movies.sample(10)"
   ],
   "metadata": {
    "collapsed": false,
    "pycharm": {
     "name": "#%%\n"
    }
   }
  },
  {
   "cell_type": "code",
   "execution_count": 226,
   "outputs": [],
   "source": [],
   "metadata": {
    "collapsed": false,
    "pycharm": {
     "name": "#%%\n"
    }
   }
  }
 ],
 "metadata": {
  "kernelspec": {
   "display_name": "Python 3",
   "language": "python",
   "name": "python3"
  },
  "language_info": {
   "codemirror_mode": {
    "name": "ipython",
    "version": 2
   },
   "file_extension": ".py",
   "mimetype": "text/x-python",
   "name": "python",
   "nbconvert_exporter": "python",
   "pygments_lexer": "ipython2",
   "version": "2.7.6"
  }
 },
 "nbformat": 4,
 "nbformat_minor": 0
}